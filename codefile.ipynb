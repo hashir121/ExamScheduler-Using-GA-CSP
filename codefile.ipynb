{
 "cells": [
  {
   "cell_type": "code",
   "execution_count": 1,
   "id": "165a14f5",
   "metadata": {},
   "outputs": [],
   "source": [
    "from copy import deepcopy                        # Will be used to deep copy\n",
    "import random                                    # Will be used for randomization\n",
    "from math import exp                             # will be used for probability calculation\n",
    "import numpy as np\n",
    "import time"
   ]
  },
  {
   "cell_type": "code",
   "execution_count": 2,
   "id": "2a4f38b2",
   "metadata": {},
   "outputs": [],
   "source": [
    "Courses = [\"C1\", \"C2\", \"C3\", \"C4\", \"C5\"]\n",
    "Halls = [\"H1\", \"H2\"]\n",
    "Slots = [\"T1\", \"T2\", \"T3\"]\n",
    "\n",
    "# MaxHallHour = random.randint(6,9) #different for every hall\n",
    "CourseHour = random.randint(1,3)#Same for every course\n",
    "PopulationSize=100# number of individials in a population\n",
    "\n",
    "CrossProb = 0.8   # probability for crossover\n",
    "MutationProb = 0.1  # probability for mutation\n",
    "TournamentSize = 5  #Tournament size"
   ]
  },
  {
   "cell_type": "code",
   "execution_count": 3,
   "id": "e322eca1",
   "metadata": {},
   "outputs": [],
   "source": [
    "Conflict = []\n",
    "\n",
    "#calculating conflict for each course. is random\n",
    "for x in range(0, len(Courses)-1):\n",
    "    for y in range(x+1, len(Courses)):\n",
    "        r1 = random.randint(0,10)  # generate random value from  0 to 10\n",
    "        if r1 >= 5:   #if >= 5, Conflict exists\n",
    "            r2 = random.randint(1,10) #random number for number of conflicting students from 1 to 10   \n",
    "            Conflict.append((Courses[x],Courses[y], r2))   #append it in conflicts\n",
    "\n"
   ]
  },
  {
   "cell_type": "code",
   "execution_count": 4,
   "id": "f4511d45",
   "metadata": {},
   "outputs": [],
   "source": [
    "#Different for each hall based with range (6 to 9)\n",
    "MaxHallHours = [];\n",
    "for x in range(0, len(Halls)):\n",
    "    MaxHallHours.append(random.randint(6,9));\n"
   ]
  },
  {
   "cell_type": "code",
   "execution_count": null,
   "id": "8a3c4383",
   "metadata": {},
   "outputs": [],
   "source": []
  },
  {
   "cell_type": "code",
   "execution_count": 5,
   "id": "ab9a09df",
   "metadata": {},
   "outputs": [],
   "source": [
    "#generates random solution\n",
    "def Solution():\n",
    "    solution = []\n",
    "    for course in Courses:\n",
    "        slot = random.choice(Slots)\n",
    "        hall = random.choice(Halls)\n",
    "        solution.append((course, slot, hall))\n",
    "    return solution"
   ]
  },
  {
   "cell_type": "code",
   "execution_count": 6,
   "id": "f27a08f9",
   "metadata": {},
   "outputs": [],
   "source": [
    "#generates population based on size input\n",
    "def Populate(Size):\n",
    "    return [Solution() for _ in range(Size)]"
   ]
  },
  {
   "cell_type": "code",
   "execution_count": 7,
   "id": "567c016f",
   "metadata": {},
   "outputs": [],
   "source": [
    "# Population = Populate(PopulationSize)\n",
    "# Population"
   ]
  },
  {
   "cell_type": "code",
   "execution_count": null,
   "id": "f89717db",
   "metadata": {},
   "outputs": [],
   "source": []
  },
  {
   "cell_type": "code",
   "execution_count": 8,
   "id": "28a65120",
   "metadata": {},
   "outputs": [],
   "source": [
    "#calculating fitness of solution\n",
    "def Calculate_Fitness(Solution):\n",
    "    PenaltyForHall = 10\n",
    "    PenaltyForStudent = 100\n",
    "    Score = 0 #Score to return\n",
    "    Student = 0\n",
    "    for x in range(0, len(Halls)):\n",
    "        \n",
    "        \n",
    "        # calculate the total use for a particular hall\n",
    "        Use = sum(CourseHour for S in Solution if S[2] == Halls[x])\n",
    "        \n",
    "        #find the max hour limit for that hall\n",
    "        Max_Hour = MaxHallHours[x];\n",
    "        \n",
    "#         print(f\"Use: {Use} Max: {Max_Hour}\")\n",
    "        \n",
    "        #if greater, penalize with adding 10 for every hour exceeded\n",
    "        if Use > Max_Hour:\n",
    "            Score += (Use-Max_Hour) * PenaltyForHall\n",
    "        \n",
    "    #calculate penalty for similar conflict courses\n",
    "    for (c1, c2, n) in Conflict:\n",
    "\n",
    "        #if conflicting courses done at the same time in different hall, add the number of students\n",
    "        if any(r1[0] == c1 and r2[0] == c2 and r1[1] == r2[1] for r1 in Solution for r2 in Solution):\n",
    "            Student += n\n",
    "\n",
    "#     print(\"Student: \",Student)\n",
    "#     print(\"Score: \",Score)\n",
    "    #multiply with penalty for student\n",
    "    Student *=PenaltyForStudent\n",
    "    \n",
    "    #add it to the score\n",
    "    Score += Student\n",
    "                \n",
    "\n",
    "    \n",
    "    return Score"
   ]
  },
  {
   "cell_type": "code",
   "execution_count": 9,
   "id": "c2914b96",
   "metadata": {},
   "outputs": [],
   "source": [
    "#calculating the fitness of each solution and returning it in an List\n",
    "def Generate_Fitness(Population):\n",
    "    Fitness = []\n",
    "    for x in Population:\n",
    "        fit = Calculate_Fitness(x)\n",
    "        Fitness.append(fit)    \n",
    "    \n",
    "    return Fitness\n",
    "    "
   ]
  },
  {
   "cell_type": "code",
   "execution_count": 10,
   "id": "72515878",
   "metadata": {},
   "outputs": [],
   "source": [
    "# Fitness"
   ]
  },
  {
   "cell_type": "code",
   "execution_count": 11,
   "id": "8a29e01f",
   "metadata": {},
   "outputs": [],
   "source": [
    "#Single point crossover with probability defined at top\n",
    "def Single_Crossover(P1, P2):\n",
    "    if random.random() < CrossProb:\n",
    "        CrossPoint = random.randint(1, len(P1) - 1)\n",
    "        C1 = P1[:CrossPoint] + P2[CrossPoint:]\n",
    "        C2 = P2[:CrossPoint] + P1[CrossPoint:]\n",
    "        return C1, C2\n",
    "    else:\n",
    "        return P1, P2"
   ]
  },
  {
   "cell_type": "code",
   "execution_count": 12,
   "id": "182d9207",
   "metadata": {},
   "outputs": [],
   "source": [
    "#mutation with probability defined at top\n",
    "def Mutation(child):\n",
    "    for x in range(len(child)):\n",
    "        if random.random() < MutationProb:\n",
    "            course = child[x][0]\n",
    "            slot = random.choice(Slots)\n",
    "            hall = random.choice(Halls)\n",
    "            child[x] = (course, slot, hall)\n",
    "    return child"
   ]
  },
  {
   "cell_type": "code",
   "execution_count": 13,
   "id": "a2044a34",
   "metadata": {},
   "outputs": [],
   "source": [
    "SolutionSet = []\n",
    "#function to check for solution and store in SolutionSet\n",
    "def Check_For_Solution(Population, Fitness):\n",
    "    for x in range(0,len(Fitness)):\n",
    "        if Fitness[x] == 0: #if fitness = 0\n",
    "            SolutionSet.append(Population[x])  #Append in SolutionSet\n",
    "#             del Population[x]  #delete it from the Population\n",
    "#             del Fitness[x]\n",
    "    return Population"
   ]
  },
  {
   "cell_type": "code",
   "execution_count": 14,
   "id": "f9b09806",
   "metadata": {},
   "outputs": [],
   "source": [
    "def Tournament_List(Population, Fitness):\n",
    "    List = []\n",
    "    for x in range(0,TournamentSize):\n",
    "        minval = min(Fitness)\n",
    "        minindex = Fitness.index(minval)\n",
    "        while minval == 0:\n",
    "            minval = min(Fitness)\n",
    "            minindex = Fitness.index(minval)\n",
    "            del Fitness[minindex]\n",
    "            del Population[minindex]\n",
    "\n",
    "\n",
    "        \n",
    "        \n",
    "        List.append(Population[minindex])\n",
    "\n",
    "    return List"
   ]
  },
  {
   "cell_type": "code",
   "execution_count": 15,
   "id": "b147b321",
   "metadata": {},
   "outputs": [],
   "source": [
    "#Function to apply crossover and get the child list using single crossover\n",
    "def Apply_Crossover(TournamentList):\n",
    "    ChildList = []\n",
    "    for x in range(0, len(TournamentList)-1):\n",
    "        for y in range(x+1, len(TournamentList)):\n",
    "            p1 = TournamentList[x] #get parents\n",
    "            p2 = TournamentList[y]\n",
    "            \n",
    "            (c1,c2) = Single_Crossover(p1,p2)  # get children\n",
    "            if c1 != p1 and c2 != p2:\n",
    "                ChildList.append(c1)  # append them to childlist\n",
    "                ChildList.append(c2)\n",
    "    \n",
    "    return ChildList #return child list\n",
    "            "
   ]
  },
  {
   "cell_type": "code",
   "execution_count": 16,
   "id": "6c96cec2",
   "metadata": {},
   "outputs": [],
   "source": [
    "def Apply_Mutation(ChildList):\n",
    "    MutatedList = []\n",
    "    \n",
    "    for x in ChildList:\n",
    "        ML = Mutation(x)\n",
    "        MutatedList.append(x)\n",
    "    \n",
    "    return MutatedList"
   ]
  },
  {
   "cell_type": "code",
   "execution_count": null,
   "id": "052ec9fc",
   "metadata": {},
   "outputs": [],
   "source": []
  },
  {
   "cell_type": "code",
   "execution_count": 17,
   "id": "7df1d1c4",
   "metadata": {},
   "outputs": [
    {
     "name": "stdout",
     "output_type": "stream",
     "text": [
      "Time Taken:  0.023935556411743164\n"
     ]
    }
   ],
   "source": [
    "counter = 0\n",
    "Population = Populate(PopulationSize) # randomly populate\n",
    "start = time.time()\n",
    "while counter < PopulationSize:   # while Populationsize not eached\n",
    "    Fitness = Generate_Fitness(Population)   # generate fitness\n",
    "    Population = Check_For_Solution(Population, Fitness)   #check for solutions present\n",
    "    \n",
    "    TournamentList = Tournament_List(Population,Fitness)  # select the best from tournament selection\n",
    "    \n",
    "    ChildrenList = Apply_Crossover(TournamentList) # apply crossover and get the children list\n",
    "    \n",
    "    MutatedList = Apply_Mutation(ChildrenList)  # mutate the children list\n",
    "    \n",
    "    TournamentList.extend(MutatedList)   # add it to the tournament list\n",
    "    \n",
    "    Population = TournamentList    # the new population is the tournament list\n",
    "    \n",
    "    counter = counter+1\n",
    "end = time.time()\n",
    "print(\"Time Taken: \", end-start)\n",
    "# SolutionSet"
   ]
  },
  {
   "cell_type": "code",
   "execution_count": null,
   "id": "563c48c4",
   "metadata": {},
   "outputs": [],
   "source": []
  },
  {
   "cell_type": "code",
   "execution_count": 18,
   "id": "ad70c60c",
   "metadata": {},
   "outputs": [],
   "source": [
    "# print(\"Length of Population Set: \", len(Population))"
   ]
  },
  {
   "cell_type": "code",
   "execution_count": 19,
   "id": "cf8aca45",
   "metadata": {},
   "outputs": [
    {
     "name": "stdout",
     "output_type": "stream",
     "text": [
      "Fitness:  [100, 100, 100, 100, 100]\n"
     ]
    }
   ],
   "source": [
    "print(\"Fitness: \", Fitness)"
   ]
  },
  {
   "cell_type": "code",
   "execution_count": 20,
   "id": "ea099ce4",
   "metadata": {},
   "outputs": [
    {
     "name": "stdout",
     "output_type": "stream",
     "text": [
      "Length of Solution Set:  8\n",
      "Solution Set: \n"
     ]
    },
    {
     "data": {
      "text/plain": [
       "[[('C1', 'T1', 'H2'),\n",
       "  ('C2', 'T3', 'H1'),\n",
       "  ('C3', 'T1', 'H1'),\n",
       "  ('C4', 'T2', 'H2'),\n",
       "  ('C5', 'T2', 'H2')],\n",
       " [('C1', 'T2', 'H1'),\n",
       "  ('C2', 'T1', 'H2'),\n",
       "  ('C3', 'T2', 'H2'),\n",
       "  ('C4', 'T2', 'H2'),\n",
       "  ('C5', 'T3', 'H1')],\n",
       " [('C1', 'T1', 'H1'),\n",
       "  ('C2', 'T3', 'H2'),\n",
       "  ('C3', 'T2', 'H2'),\n",
       "  ('C4', 'T2', 'H1'),\n",
       "  ('C5', 'T1', 'H1')],\n",
       " [('C1', 'T1', 'H1'),\n",
       "  ('C2', 'T2', 'H1'),\n",
       "  ('C3', 'T3', 'H2'),\n",
       "  ('C4', 'T1', 'H1'),\n",
       "  ('C5', 'T1', 'H2')],\n",
       " [('C1', 'T3', 'H1'),\n",
       "  ('C2', 'T1', 'H2'),\n",
       "  ('C3', 'T3', 'H2'),\n",
       "  ('C4', 'T3', 'H2'),\n",
       "  ('C5', 'T2', 'H2')],\n",
       " [('C1', 'T3', 'H1'),\n",
       "  ('C2', 'T1', 'H1'),\n",
       "  ('C3', 'T2', 'H1'),\n",
       "  ('C4', 'T2', 'H2'),\n",
       "  ('C5', 'T3', 'H1')],\n",
       " [('C1', 'T3', 'H1'),\n",
       "  ('C2', 'T1', 'H2'),\n",
       "  ('C3', 'T3', 'H1'),\n",
       "  ('C4', 'T2', 'H1'),\n",
       "  ('C5', 'T2', 'H2')],\n",
       " [('C1', 'T2', 'H2'),\n",
       "  ('C2', 'T1', 'H1'),\n",
       "  ('C3', 'T2', 'H1'),\n",
       "  ('C4', 'T3', 'H1'),\n",
       "  ('C5', 'T3', 'H2')]]"
      ]
     },
     "execution_count": 20,
     "metadata": {},
     "output_type": "execute_result"
    }
   ],
   "source": [
    "print(\"Length of Solution Set: \", len(SolutionSet))\n",
    "\n",
    "print(\"Solution Set: \")\n",
    "SolutionSet"
   ]
  },
  {
   "cell_type": "code",
   "execution_count": null,
   "id": "d2c17509",
   "metadata": {},
   "outputs": [],
   "source": [
    "#printing one of the solutions as optimal solution(the last one)\n",
    "if SolutionSet:\n",
    "    print(\"An Optimal Solution: \")\n",
    "    print(SolutionSet[len(SolutionSet)-1])    \n"
   ]
  },
  {
   "cell_type": "code",
   "execution_count": null,
   "id": "652cd64f",
   "metadata": {},
   "outputs": [],
   "source": [
    "print(\"Conflicts: \")\n",
    "Conflict"
   ]
  },
  {
   "cell_type": "code",
   "execution_count": null,
   "id": "6f01213d",
   "metadata": {},
   "outputs": [],
   "source": [
    "MaxHallHours\n"
   ]
  },
  {
   "cell_type": "code",
   "execution_count": null,
   "id": "f429ad96",
   "metadata": {},
   "outputs": [],
   "source": [
    "CourseHour"
   ]
  },
  {
   "cell_type": "code",
   "execution_count": null,
   "id": "903044fa",
   "metadata": {},
   "outputs": [],
   "source": []
  },
  {
   "cell_type": "code",
   "execution_count": null,
   "id": "a9d03f9e",
   "metadata": {},
   "outputs": [],
   "source": []
  }
 ],
 "metadata": {
  "kernelspec": {
   "display_name": "Python 3 (ipykernel)",
   "language": "python",
   "name": "python3"
  },
  "language_info": {
   "codemirror_mode": {
    "name": "ipython",
    "version": 3
   },
   "file_extension": ".py",
   "mimetype": "text/x-python",
   "name": "python",
   "nbconvert_exporter": "python",
   "pygments_lexer": "ipython3",
   "version": "3.9.16"
  }
 },
 "nbformat": 4,
 "nbformat_minor": 5
}
